{
 "cells": [
  {
   "cell_type": "code",
   "execution_count": 2,
   "id": "77742a62",
   "metadata": {},
   "outputs": [],
   "source": [
    "import numpy as np\n",
    "import cv2"
   ]
  },
  {
   "cell_type": "code",
   "execution_count": 3,
   "id": "0a854af8",
   "metadata": {},
   "outputs": [],
   "source": [
    "#Read the Image\n",
    "# Load an color image in grayscale\n",
    "img = cv2.imread('bike.jpg',0)\n",
    "\n",
    "#Display the image\n",
    "cv2.imshow('image',img)"
   ]
  },
  {
   "cell_type": "code",
   "execution_count": 5,
   "id": "b365e4f2",
   "metadata": {},
   "outputs": [],
   "source": [
    "a=cv2.imshow('image',img)"
   ]
  },
  {
   "cell_type": "code",
   "execution_count": 1,
   "id": "c677adae",
   "metadata": {},
   "outputs": [],
   "source": [
    "import cv2 as cv\n",
    "image = cv.imread ('bike.jpg')\n",
    "cv.imshow('Cristiano Ronaldo', image)"
   ]
  },
  {
   "cell_type": "markdown",
   "id": "dfd3ba8d",
   "metadata": {},
   "source": [
    "Using Python Imaging Library (PIL)\n",
    "The Python Imaging Library (PIL) is image manipulation library in python. Use pip to install PIL library,"
   ]
  },
  {
   "cell_type": "code",
   "execution_count": 8,
   "id": "462a1d89",
   "metadata": {},
   "outputs": [
    {
     "name": "stdout",
     "output_type": "stream",
     "text": [
      "Requirement already satisfied: Pillow in c:\\users\\monika201103\\anaconda3\\envs\\torch\\lib\\site-packages (9.4.0)\n",
      "Note: you may need to restart the kernel to use updated packages.\n"
     ]
    }
   ],
   "source": [
    "pip install Pillow"
   ]
  },
  {
   "cell_type": "code",
   "execution_count": 10,
   "id": "9f147b0b",
   "metadata": {},
   "outputs": [
    {
     "ename": "NameError",
     "evalue": "name 'image' is not defined",
     "output_type": "error",
     "traceback": [
      "\u001b[1;31m---------------------------------------------------------------------------\u001b[0m",
      "\u001b[1;31mNameError\u001b[0m                                 Traceback (most recent call last)",
      "Cell \u001b[1;32mIn[10], line 2\u001b[0m\n\u001b[0;32m      1\u001b[0m \u001b[38;5;66;03m#Read image\u001b[39;00m\n\u001b[1;32m----> 2\u001b[0m im \u001b[38;5;241m=\u001b[39m \u001b[43mimage\u001b[49m\u001b[38;5;241m.\u001b[39mopen( \u001b[38;5;124m'\u001b[39m\u001b[38;5;124mbike.jpg\u001b[39m\u001b[38;5;124m'\u001b[39m )\n\u001b[0;32m      4\u001b[0m \u001b[38;5;66;03m#Display image\u001b[39;00m\n\u001b[0;32m      5\u001b[0m im\u001b[38;5;241m.\u001b[39mshow()\n",
      "\u001b[1;31mNameError\u001b[0m: name 'image' is not defined"
     ]
    }
   ],
   "source": [
    "#Read image\n",
    "im = image.open( 'bike.jpg' )\n",
    "\n",
    "#Display image\n",
    "im.show()\n",
    "\n",
    "#Applying a filter to the image\n",
    "im_sharp = im.filter( ImageFilter.SHARPEN )\n",
    "\n",
    "#Saving the filtered image to a new file\n",
    "im_sharp.save( 'another_Bike.jpg', 'JPEG' )"
   ]
  },
  {
   "cell_type": "code",
   "execution_count": 3,
   "id": "e70f0d06",
   "metadata": {},
   "outputs": [
    {
     "name": "stdout",
     "output_type": "stream",
     "text": [
      "Current working directory before\n",
      "C:\\Users\\monika201103\\Image Processing with Python\n",
      "\n"
     ]
    }
   ],
   "source": [
    "import os\n",
    "\n",
    "# Function to Get the current\n",
    "# working directory\n",
    "def current_path():\n",
    "    print(\"Current working directory before\")\n",
    "    print(os.getcwd())\n",
    "    print()\n",
    "\n",
    "\n",
    "# Driver's code\n",
    "# Printing CWD before\n",
    "current_path()"
   ]
  },
  {
   "cell_type": "code",
   "execution_count": 2,
   "id": "c3f5f43e",
   "metadata": {},
   "outputs": [
    {
     "name": "stdout",
     "output_type": "stream",
     "text": [
      "C:\\Users\\monika201103\\Image Processing with Python\n"
     ]
    }
   ],
   "source": [
    "import os\n",
    "print(os.getcwd())"
   ]
  },
  {
   "cell_type": "code",
   "execution_count": null,
   "id": "b7113ed6",
   "metadata": {},
   "outputs": [],
   "source": []
  }
 ],
 "metadata": {
  "kernelspec": {
   "display_name": "Python 3 (ipykernel)",
   "language": "python",
   "name": "python3"
  },
  "language_info": {
   "codemirror_mode": {
    "name": "ipython",
    "version": 3
   },
   "file_extension": ".py",
   "mimetype": "text/x-python",
   "name": "python",
   "nbconvert_exporter": "python",
   "pygments_lexer": "ipython3",
   "version": "3.9.16"
  }
 },
 "nbformat": 4,
 "nbformat_minor": 5
}
