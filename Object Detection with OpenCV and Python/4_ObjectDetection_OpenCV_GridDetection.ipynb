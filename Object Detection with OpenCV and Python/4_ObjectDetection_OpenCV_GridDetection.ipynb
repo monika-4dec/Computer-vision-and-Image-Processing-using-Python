{
  "nbformat": 4,
  "nbformat_minor": 0,
  "metadata": {
    "colab": {
      "name": "4_ObjectDetection_OpenCV_GridDetection.ipynb",
      "provenance": [],
      "authorship_tag": "ABX9TyOFkN/6h1jZ3fboAMO3U7IU",
      "include_colab_link": true
    },
    "kernelspec": {
      "name": "python3",
      "display_name": "Python 3"
    }
  },
  "cells": [
    {
      "cell_type": "markdown",
      "metadata": {
        "id": "view-in-github",
        "colab_type": "text"
      },
      "source": [
        "<a href=\"https://colab.research.google.com/github/worklifesg/Python-for-Computer-Vision-with-OpenCV-and-Deep-Learning/blob/main/5.%20Object%20Detection%20with%20OpenCV%20and%20Python/4_ObjectDetection_OpenCV_GridDetection.ipynb\" target=\"_parent\"><img src=\"https://colab.research.google.com/assets/colab-badge.svg\" alt=\"Open In Colab\"/></a>"
      ]
    },
    {
      "cell_type": "markdown",
      "metadata": {
        "id": "af1e3loO5W54"
      },
      "source": [
        "### Object Detection with OpenCV and Python \n",
        "\n",
        "In this section, we will cover the <b> Grid Detection </b>\n",
        "\n",
        "- It is needed to find grids using openCV if need arises\n",
        "- Often cameras can create distortion in an image such as radial distortion, tangential distortion.\n",
        "- To avoid such distortions in object tracking, we can attach recognizable pattern to the object being tracked.\n",
        "- <b>Grid patterns are often use to calibrate cameras and track motion.</b>\n"
      ]
    },
    {
      "cell_type": "code",
      "metadata": {
        "id": "CU9CQvkP5UGk"
      },
      "source": [
        "import cv2\n",
        "import numpy as np\n",
        "import matplotlib.pyplot as plt\n",
        "%matplotlib inline"
      ],
      "execution_count": 1,
      "outputs": []
    },
    {
      "cell_type": "code",
      "metadata": {
        "colab": {
          "base_uri": "https://localhost:8080/",
          "height": 288
        },
        "id": "VpF53UYA849s",
        "outputId": "b7931168-47f8-48c3-e606-d9ab624f4d14"
      },
      "source": [
        "flat_chess = cv2.imread('flat_chessboard.png')\n",
        "plt.imshow(flat_chess)"
      ],
      "execution_count": 2,
      "outputs": [
        {
          "output_type": "execute_result",
          "data": {
            "text/plain": [
              "<matplotlib.image.AxesImage at 0x7f6ee00fdf60>"
            ]
          },
          "metadata": {
            "tags": []
          },
          "execution_count": 2
        },
        {
          "output_type": "display_data",
          "data": {
            "image/png": "[encoded data removed]",
            "text/plain": [
              "<Figure size 432x288 with 1 Axes>"
            ]
          },
          "metadata": {
            "tags": [],
            "needs_background": "light"
          }
        }
      ]
    },
    {
      "cell_type": "code",
      "metadata": {
        "colab": {
          "base_uri": "https://localhost:8080/"
        },
        "id": "Cdw5rFK49HHq",
        "outputId": "80de573f-9251-4dca-b4b0-81ec47a6f7ad"
      },
      "source": [
        "# the recognizable pattern should resemble like object, like here in chessboard\n",
        "\n",
        "found,corners = cv2.findChessboardCorners(flat_chess,\n",
        "                          patternSize=(7,7))\n",
        "\n",
        "#as chessboard is 8 x 8 aso we keep the puter boundings away so we choose (7x7)\n",
        "print('Found (whether it can detect the chessboard: ',found)\n",
        "print('Corners (list of coordinates of chessboard', corners)"
      ],
      "execution_count": 3,
      "outputs": [
        {
          "output_type": "stream",
          "text": [
            "Found (whether it can detect the chessboard:  True\n",
            "Corners (list of coordinates of chessboard [[[ 43.500004  43.500004]]\n",
            "\n",
            " [[ 87.5       43.5     ]]\n",
            "\n",
            " [[131.5       43.5     ]]\n",
            "\n",
            " [[175.5       43.5     ]]\n",
            "\n",
            " [[219.5       43.5     ]]\n",
            "\n",
            " [[263.5       43.5     ]]\n",
            "\n",
            " [[307.5       43.5     ]]\n",
            "\n",
            " [[ 43.499996  87.50001 ]]\n",
            "\n",
            " [[ 87.5       87.5     ]]\n",
            "\n",
            " [[131.5       87.5     ]]\n",
            "\n",
            " [[175.5       87.5     ]]\n",
            "\n",
            " [[219.5       87.5     ]]\n",
            "\n",
            " [[263.5       87.5     ]]\n",
            "\n",
            " [[307.5       87.49999 ]]\n",
            "\n",
            " [[ 43.500004 131.5     ]]\n",
            "\n",
            " [[ 87.5      131.5     ]]\n",
            "\n",
            " [[131.5      131.5     ]]\n",
            "\n",
            " [[175.5      131.5     ]]\n",
            "\n",
            " [[219.5      131.5     ]]\n",
            "\n",
            " [[263.5      131.5     ]]\n",
            "\n",
            " [[307.5      131.5     ]]\n",
            "\n",
            " [[ 43.499996 175.5     ]]\n",
            "\n",
            " [[ 87.5      175.5     ]]\n",
            "\n",
            " [[131.5      175.5     ]]\n",
            "\n",
            " [[175.5      175.5     ]]\n",
            "\n",
            " [[219.5      175.5     ]]\n",
            "\n",
            " [[263.5      175.5     ]]\n",
            "\n",
            " [[307.5      175.5     ]]\n",
            "\n",
            " [[ 43.500004 219.5     ]]\n",
            "\n",
            " [[ 87.5      219.5     ]]\n",
            "\n",
            " [[131.5      219.5     ]]\n",
            "\n",
            " [[175.5      219.5     ]]\n",
            "\n",
            " [[219.5      219.5     ]]\n",
            "\n",
            " [[263.5      219.5     ]]\n",
            "\n",
            " [[307.5      219.5     ]]\n",
            "\n",
            " [[ 43.499996 263.5     ]]\n",
            "\n",
            " [[ 87.5      263.5     ]]\n",
            "\n",
            " [[131.5      263.5     ]]\n",
            "\n",
            " [[175.5      263.5     ]]\n",
            "\n",
            " [[219.5      263.5     ]]\n",
            "\n",
            " [[263.5      263.5     ]]\n",
            "\n",
            " [[307.5      263.5     ]]\n",
            "\n",
            " [[ 43.5      307.5     ]]\n",
            "\n",
            " [[ 87.5      307.5     ]]\n",
            "\n",
            " [[131.5      307.5     ]]\n",
            "\n",
            " [[175.5      307.5     ]]\n",
            "\n",
            " [[219.5      307.5     ]]\n",
            "\n",
            " [[263.5      307.5     ]]\n",
            "\n",
            " [[307.5      307.5     ]]]\n"
          ],
          "name": "stdout"
        }
      ]
    },
    {
      "cell_type": "code",
      "metadata": {
        "colab": {
          "base_uri": "https://localhost:8080/"
        },
        "id": "fmiD1GPM-Edp",
        "outputId": "2e2b8d11-2bc1-43d5-ac29-6bece81716c6"
      },
      "source": [
        "#to draw corners now\n",
        "\n",
        "cv2.drawChessboardCorners(flat_chess,(7,7),corners,found)"
      ],
      "execution_count": 4,
      "outputs": [
        {
          "output_type": "execute_result",
          "data": {
            "text/plain": [
              "array([[[158, 206, 255],\n",
              "        [158, 206, 255],\n",
              "        [158, 206, 255],\n",
              "        ...,\n",
              "        [ 71, 139, 209],\n",
              "        [ 71, 139, 209],\n",
              "        [ 71, 139, 209]],\n",
              "\n",
              "       [[158, 206, 255],\n",
              "        [158, 206, 255],\n",
              "        [158, 206, 255],\n",
              "        ...,\n",
              "        [ 71, 139, 209],\n",
              "        [ 71, 139, 209],\n",
              "        [ 71, 139, 209]],\n",
              "\n",
              "       [[158, 206, 255],\n",
              "        [158, 206, 255],\n",
              "        [158, 206, 255],\n",
              "        ...,\n",
              "        [ 71, 139, 209],\n",
              "        [ 71, 139, 209],\n",
              "        [ 71, 139, 209]],\n",
              "\n",
              "       ...,\n",
              "\n",
              "       [[ 71, 139, 209],\n",
              "        [ 71, 139, 209],\n",
              "        [ 71, 139, 209],\n",
              "        ...,\n",
              "        [158, 206, 255],\n",
              "        [158, 206, 255],\n",
              "        [158, 206, 255]],\n",
              "\n",
              "       [[ 71, 139, 209],\n",
              "        [ 71, 139, 209],\n",
              "        [ 71, 139, 209],\n",
              "        ...,\n",
              "        [158, 206, 255],\n",
              "        [158, 206, 255],\n",
              "        [158, 206, 255]],\n",
              "\n",
              "       [[ 71, 139, 209],\n",
              "        [ 71, 139, 209],\n",
              "        [ 71, 139, 209],\n",
              "        ...,\n",
              "        [158, 206, 255],\n",
              "        [158, 206, 255],\n",
              "        [158, 206, 255]]], dtype=uint8)"
            ]
          },
          "metadata": {
            "tags": []
          },
          "execution_count": 4
        }
      ]
    },
    {
      "cell_type": "code",
      "metadata": {
        "colab": {
          "base_uri": "https://localhost:8080/",
          "height": 288
        },
        "id": "Xwb28CJa-SAC",
        "outputId": "6c2e1a7e-a3cb-4521-fad6-3cbcfd545a45"
      },
      "source": [
        "plt.imshow(flat_chess)"
      ],
      "execution_count": 5,
      "outputs": [
        {
          "output_type": "execute_result",
          "data": {
            "text/plain": [
              "<matplotlib.image.AxesImage at 0x7f6edfc5c668>"
            ]
          },
          "metadata": {
            "tags": []
          },
          "execution_count": 5
        },
        {
          "output_type": "display_data",
          "data": {
            "image/png": "[encoded data removed]",
            "text/plain": [
              "<Figure size 432x288 with 1 Axes>"
            ]
          },
          "metadata": {
            "tags": [],
            "needs_background": "light"
          }
        }
      ]
    },
    {
      "cell_type": "markdown",
      "metadata": {
        "id": "9wpZrbMC-f96"
      },
      "source": [
        "#### Other grid like patterns (Circle)"
      ]
    },
    {
      "cell_type": "code",
      "metadata": {
        "colab": {
          "base_uri": "https://localhost:8080/",
          "height": 288
        },
        "id": "zzovepWr-U6D",
        "outputId": "a38c1504-0a19-4c1f-c682-271130b63440"
      },
      "source": [
        "dots = cv2.imread('dot_grid.png')\n",
        "plt.imshow(dots)"
      ],
      "execution_count": 6,
      "outputs": [
        {
          "output_type": "execute_result",
          "data": {
            "text/plain": [
              "<matplotlib.image.AxesImage at 0x7f6edf3bcdd8>"
            ]
          },
          "metadata": {
            "tags": []
          },
          "execution_count": 6
        },
        {
          "output_type": "display_data",
          "data": {
            "image/png": "[encoded data removed]",
            "text/plain": [
              "<Figure size 432x288 with 1 Axes>"
            ]
          },
          "metadata": {
            "tags": [],
            "needs_background": "light"
          }
        }
      ]
    },
    {
      "cell_type": "code",
      "metadata": {
        "colab": {
          "base_uri": "https://localhost:8080/"
        },
        "id": "_Blxx5_x-8tg",
        "outputId": "07b5c92a-10be-4378-eb24-ea90f14c9bd7"
      },
      "source": [
        "found,corners = cv2.findCirclesGrid(dots,(10,10),\n",
        "                                    cv2.CALIB_CB_SYMMETRIC_GRID)\n",
        "\n",
        "print('Found :',found)"
      ],
      "execution_count": 7,
      "outputs": [
        {
          "output_type": "stream",
          "text": [
            "Found : True\n"
          ],
          "name": "stdout"
        }
      ]
    },
    {
      "cell_type": "code",
      "metadata": {
        "colab": {
          "base_uri": "https://localhost:8080/"
        },
        "id": "r0ykKqd__VbQ",
        "outputId": "ab40b24e-b895-420f-8893-0ce97fa0d1b3"
      },
      "source": [
        "#to draw corners now\n",
        "\n",
        "cv2.drawChessboardCorners(dots,(10,10),corners,found)"
      ],
      "execution_count": 8,
      "outputs": [
        {
          "output_type": "execute_result",
          "data": {
            "text/plain": [
              "array([[[255, 255, 255],\n",
              "        [255, 255, 255],\n",
              "        [255, 255, 255],\n",
              "        ...,\n",
              "        [255, 255, 255],\n",
              "        [255, 255, 255],\n",
              "        [255, 255, 255]],\n",
              "\n",
              "       [[255, 255, 255],\n",
              "        [255, 255, 255],\n",
              "        [255, 255, 255],\n",
              "        ...,\n",
              "        [255, 255, 255],\n",
              "        [255, 255, 255],\n",
              "        [255, 255, 255]],\n",
              "\n",
              "       [[255, 255, 255],\n",
              "        [255, 255, 255],\n",
              "        [255, 255, 255],\n",
              "        ...,\n",
              "        [255, 255, 255],\n",
              "        [255, 255, 255],\n",
              "        [255, 255, 255]],\n",
              "\n",
              "       ...,\n",
              "\n",
              "       [[255, 255, 255],\n",
              "        [255, 255, 255],\n",
              "        [255, 255, 255],\n",
              "        ...,\n",
              "        [255, 255, 255],\n",
              "        [255, 255, 255],\n",
              "        [255, 255, 255]],\n",
              "\n",
              "       [[255, 255, 255],\n",
              "        [255, 255, 255],\n",
              "        [255, 255, 255],\n",
              "        ...,\n",
              "        [255, 255, 255],\n",
              "        [255, 255, 255],\n",
              "        [255, 255, 255]],\n",
              "\n",
              "       [[255, 255, 255],\n",
              "        [255, 255, 255],\n",
              "        [255, 255, 255],\n",
              "        ...,\n",
              "        [255, 255, 255],\n",
              "        [255, 255, 255],\n",
              "        [255, 255, 255]]], dtype=uint8)"
            ]
          },
          "metadata": {
            "tags": []
          },
          "execution_count": 8
        }
      ]
    },
    {
      "cell_type": "code",
      "metadata": {
        "colab": {
          "base_uri": "https://localhost:8080/",
          "height": 288
        },
        "id": "KmxXoUnY_cBA",
        "outputId": "0c11dfb1-46ff-4f33-ddce-f49b5a6ab9de"
      },
      "source": [
        "plt.imshow(dots)"
      ],
      "execution_count": 9,
      "outputs": [
        {
          "output_type": "execute_result",
          "data": {
            "text/plain": [
              "<matplotlib.image.AxesImage at 0x7f6edf39ceb8>"
            ]
          },
          "metadata": {
            "tags": []
          },
          "execution_count": 9
        },
        {
          "output_type": "display_data",
          "data": {
            "image/png": "[encoded data removed]",
            "text/plain": [
              "<Figure size 432x288 with 1 Axes>"
            ]
          },
          "metadata": {
            "tags": [],
            "needs_background": "light"
          }
        }
      ]
    }
  ]
}