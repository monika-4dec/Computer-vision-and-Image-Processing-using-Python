{
  "nbformat": 4,
  "nbformat_minor": 0,
  "metadata": {
    "colab": {
      "name": "3_ImageBasics_OpenCV_DrawingOnImage.ipynb",
      "provenance": [],
      "collapsed_sections": [],
      "authorship_tag": "ABX9TyMBKpCuB08wSOlycobBTDJp",
      "include_colab_link": true
    },
    "kernelspec": {
      "name": "python3",
      "display_name": "Python 3"
    }
  },
  "cells": [
    {
      "cell_type": "markdown",
      "metadata": {
        "id": "view-in-github",
        "colab_type": "text"
      },
      "source": [
        "<a href=\"https://colab.research.google.com/github/worklifesg/Python-for-Computer-Vision-with-OpenCV-and-Deep-Learning/blob/main/2.%20Image%20Basics%20with%20OpenCV/3_ImageBasics_OpenCV_DrawingOnImage.ipynb\" target=\"_parent\"><img src=\"https://colab.research.google.com/assets/colab-badge.svg\" alt=\"Open In Colab\"/></a>"
      ]
    },
    {
      "cell_type": "markdown",
      "metadata": {
        "id": "FBDWXoWPHrpP"
      },
      "source": [
        "#### Image Basics with Open CV (Drawing on Images)\n",
        "\n",
        "In this section we will discuss how to open images using OpenCV and draw on them.\n",
        "\n",
        "---\n",
        "\n",
        "OpenCV:\n",
        "\n",
        " - Open Source Computer Vision - aimed at real time computer vision.\n",
        " - Created by Intel in 1999, written in C++ (but now can used with Python bindings).\n",
        " - Many built-in algorithms for CV including object detection and tracking.\n",
        "\n",
        "In this program, we will look into following parts:\n",
        "\n",
        " - Open image files with OpenCV in notebook and python script(separate .py file)\n",
        " - Draw simple geometries on images.\n",
        " - Directly interact with an image through callbacks"
      ]
    },
    {
      "cell_type": "code",
      "metadata": {
        "id": "sj-ppMW9HxPO"
      },
      "source": [
        "import cv2\n",
        "import numpy as np\n",
        "\n",
        "import matplotlib.pyplot as plt\n",
        "%matplotlib inline"
      ],
      "execution_count": 1,
      "outputs": []
    },
    {
      "cell_type": "code",
      "metadata": {
        "colab": {
          "base_uri": "https://localhost:8080/"
        },
        "id": "usss5VdlfLNq",
        "outputId": "05c4ef19-3608-4a03-e230-3484579e00af"
      },
      "source": [
        "blank_img = np.zeros(shape=(512,512,3),dtype=np.int16)\n",
        "blank_img.shape"
      ],
      "execution_count": 2,
      "outputs": [
        {
          "output_type": "execute_result",
          "data": {
            "text/plain": [
              "(512, 512, 3)"
            ]
          },
          "metadata": {
            "tags": []
          },
          "execution_count": 2
        }
      ]
    },
    {
      "cell_type": "code",
      "metadata": {
        "colab": {
          "base_uri": "https://localhost:8080/",
          "height": 287
        },
        "id": "rrOTQ8IMfazX",
        "outputId": "9448dc73-235b-4b14-bcd6-50276d15e0d5"
      },
      "source": [
        "plt.imshow(blank_img)"
      ],
      "execution_count": 3,
      "outputs": [
        {
          "output_type": "execute_result",
          "data": {
            "text/plain": [
              "<matplotlib.image.AxesImage at 0x7f53e4a82550>"
            ]
          },
          "metadata": {
            "tags": []
          },
          "execution_count": 3
        },
        {
          "output_type": "display_data",
          "data": {
            "image/png": "[encoded data removed]",
            "text/plain": [
              "<Figure size 432x288 with 1 Axes>"
            ]
          },
          "metadata": {
            "tags": [],
            "needs_background": "light"
          }
        }
      ]
    },
    {
      "cell_type": "code",
      "metadata": {
        "colab": {
          "base_uri": "https://localhost:8080/"
        },
        "id": "XPmhKLyDfdpe",
        "outputId": "8480bc12-d2e3-4140-e18e-bb87f37409fb"
      },
      "source": [
        "## Adding rectangle on blank image (permanent marker to blank image)\n",
        "\n",
        "cv2.rectangle(blank_img,pt1=(384,10), pt2=(500,150),\n",
        "              color=(0,255,0),thickness=10)\n",
        "\n",
        "# pt1 - top left corner \n",
        "# pt2 - bottom right corner\n"
      ],
      "execution_count": 4,
      "outputs": [
        {
          "output_type": "execute_result",
          "data": {
            "text/plain": [
              "array([[[0, 0, 0],\n",
              "        [0, 0, 0],\n",
              "        [0, 0, 0],\n",
              "        ...,\n",
              "        [0, 0, 0],\n",
              "        [0, 0, 0],\n",
              "        [0, 0, 0]],\n",
              "\n",
              "       [[0, 0, 0],\n",
              "        [0, 0, 0],\n",
              "        [0, 0, 0],\n",
              "        ...,\n",
              "        [0, 0, 0],\n",
              "        [0, 0, 0],\n",
              "        [0, 0, 0]],\n",
              "\n",
              "       [[0, 0, 0],\n",
              "        [0, 0, 0],\n",
              "        [0, 0, 0],\n",
              "        ...,\n",
              "        [0, 0, 0],\n",
              "        [0, 0, 0],\n",
              "        [0, 0, 0]],\n",
              "\n",
              "       ...,\n",
              "\n",
              "       [[0, 0, 0],\n",
              "        [0, 0, 0],\n",
              "        [0, 0, 0],\n",
              "        ...,\n",
              "        [0, 0, 0],\n",
              "        [0, 0, 0],\n",
              "        [0, 0, 0]],\n",
              "\n",
              "       [[0, 0, 0],\n",
              "        [0, 0, 0],\n",
              "        [0, 0, 0],\n",
              "        ...,\n",
              "        [0, 0, 0],\n",
              "        [0, 0, 0],\n",
              "        [0, 0, 0]],\n",
              "\n",
              "       [[0, 0, 0],\n",
              "        [0, 0, 0],\n",
              "        [0, 0, 0],\n",
              "        ...,\n",
              "        [0, 0, 0],\n",
              "        [0, 0, 0],\n",
              "        [0, 0, 0]]], dtype=int16)"
            ]
          },
          "metadata": {
            "tags": []
          },
          "execution_count": 4
        }
      ]
    },
    {
      "cell_type": "code",
      "metadata": {
        "colab": {
          "base_uri": "https://localhost:8080/",
          "height": 287
        },
        "id": "tohmaDRZgN6W",
        "outputId": "dacc2a44-46fe-4e85-80ea-e0f54d21cb35"
      },
      "source": [
        "plt.imshow(blank_img)"
      ],
      "execution_count": 5,
      "outputs": [
        {
          "output_type": "execute_result",
          "data": {
            "text/plain": [
              "<matplotlib.image.AxesImage at 0x7f53e45cecc0>"
            ]
          },
          "metadata": {
            "tags": []
          },
          "execution_count": 5
        },
        {
          "output_type": "display_data",
          "data": {
            "image/png": "[encoded data removed]",
            "text/plain": [
              "<Figure size 432x288 with 1 Axes>"
            ]
          },
          "metadata": {
            "tags": [],
            "needs_background": "light"
          }
        }
      ]
    },
    {
      "cell_type": "code",
      "metadata": {
        "colab": {
          "base_uri": "https://localhost:8080/",
          "height": 287
        },
        "id": "bqx3xANzgQIX",
        "outputId": "e4a98349-5a48-4184-f84f-b1330f7f3f8a"
      },
      "source": [
        "## Drawing a square in the middle\n",
        "cv2.rectangle(blank_img,pt1=(200,200),pt2=(300,300),\n",
        "              color=(0,0,255),thickness=10)\n",
        "plt.imshow(blank_img)"
      ],
      "execution_count": 6,
      "outputs": [
        {
          "output_type": "execute_result",
          "data": {
            "text/plain": [
              "<matplotlib.image.AxesImage at 0x7f53e453e828>"
            ]
          },
          "metadata": {
            "tags": []
          },
          "execution_count": 6
        },
        {
          "output_type": "display_data",
          "data": {
            "image/png": "[encoded data removed]",
            "text/plain": [
              "<Figure size 432x288 with 1 Axes>"
            ]
          },
          "metadata": {
            "tags": [],
            "needs_background": "light"
          }
        }
      ]
    },
    {
      "cell_type": "code",
      "metadata": {
        "colab": {
          "base_uri": "https://localhost:8080/",
          "height": 287
        },
        "id": "mLto_4Mig-1N",
        "outputId": "62ca75f9-eaaa-4c4e-beef-153b05018abc"
      },
      "source": [
        "## Draw a circle\n",
        "\n",
        "cv2.circle(img=blank_img,center=(100,100),radius=50,\n",
        "           color=(255,0,0),thickness=10)\n",
        "plt.imshow(blank_img)"
      ],
      "execution_count": 7,
      "outputs": [
        {
          "output_type": "execute_result",
          "data": {
            "text/plain": [
              "<matplotlib.image.AxesImage at 0x7f53e451c908>"
            ]
          },
          "metadata": {
            "tags": []
          },
          "execution_count": 7
        },
        {
          "output_type": "display_data",
          "data": {
            "image/png": "[encoded data removed]",
            "text/plain": [
              "<Figure size 432x288 with 1 Axes>"
            ]
          },
          "metadata": {
            "tags": [],
            "needs_background": "light"
          }
        }
      ]
    },
    {
      "cell_type": "code",
      "metadata": {
        "colab": {
          "base_uri": "https://localhost:8080/",
          "height": 287
        },
        "id": "4fC7iDzgh6pG",
        "outputId": "3e4e9054-0e95-4505-acfa-82c0c4e7bef0"
      },
      "source": [
        "## Filled in circle or rectangle (thickness =-1)\n",
        "\n",
        "cv2.circle(img=blank_img,center=(400,400),radius=50,\n",
        "           color=(255,0,0),thickness=-1)\n",
        "plt.imshow(blank_img)"
      ],
      "execution_count": 8,
      "outputs": [
        {
          "output_type": "execute_result",
          "data": {
            "text/plain": [
              "<matplotlib.image.AxesImage at 0x7f53e447da58>"
            ]
          },
          "metadata": {
            "tags": []
          },
          "execution_count": 8
        },
        {
          "output_type": "display_data",
          "data": {
            "image/png": "[encoded data removed]",
            "text/plain": [
              "<Figure size 432x288 with 1 Axes>"
            ]
          },
          "metadata": {
            "tags": [],
            "needs_background": "light"
          }
        }
      ]
    },
    {
      "cell_type": "code",
      "metadata": {
        "colab": {
          "base_uri": "https://localhost:8080/",
          "height": 287
        },
        "id": "JvhgzLX1iHBc",
        "outputId": "85a7e1c4-b3ba-4d9c-b6b9-afb570339417"
      },
      "source": [
        "## Draw a line\n",
        "\n",
        "cv2.line(blank_img,pt1=(0,0),pt2=(512,512),\n",
        "         color=(10,255,255),thickness=8)\n",
        "plt.imshow(blank_img)"
      ],
      "execution_count": 9,
      "outputs": [
        {
          "output_type": "execute_result",
          "data": {
            "text/plain": [
              "<matplotlib.image.AxesImage at 0x7f53e445cbe0>"
            ]
          },
          "metadata": {
            "tags": []
          },
          "execution_count": 9
        },
        {
          "output_type": "display_data",
          "data": {
            "image/png": "[encoded data removed]",
            "text/plain": [
              "<Figure size 432x288 with 1 Axes>"
            ]
          },
          "metadata": {
            "tags": [],
            "needs_background": "light"
          }
        }
      ]
    },
    {
      "cell_type": "code",
      "metadata": {
        "colab": {
          "base_uri": "https://localhost:8080/",
          "height": 287
        },
        "id": "mGxXiqHpiaYN",
        "outputId": "393d1573-762b-4b13-d051-ec1ebfff2b40"
      },
      "source": [
        "# Now we will write and draw polygons on blank image\n",
        "\n",
        "font = cv2.FONT_HERSHEY_SIMPLEX #choose font\n",
        "cv2.putText(blank_img,text='Hello',org=(10,500),\n",
        "            fontFace=font,fontScale=4,color=(255,255,255),\n",
        "            thickness=3, lineType=cv2.LINE_AA)\n",
        "#org is bottom left starting point so need to start x,y from there\n",
        "plt.imshow(blank_img)"
      ],
      "execution_count": 10,
      "outputs": [
        {
          "output_type": "execute_result",
          "data": {
            "text/plain": [
              "<matplotlib.image.AxesImage at 0x7f53e43baf28>"
            ]
          },
          "metadata": {
            "tags": []
          },
          "execution_count": 10
        },
        {
          "output_type": "display_data",
          "data": {
            "image/png": "[encoded data removed]",
            "text/plain": [
              "<Figure size 432x288 with 1 Axes>"
            ]
          },
          "metadata": {
            "tags": [],
            "needs_background": "light"
          }
        }
      ]
    },
    {
      "cell_type": "code",
      "metadata": {
        "colab": {
          "base_uri": "https://localhost:8080/",
          "height": 287
        },
        "id": "2F_hsMlujU_d",
        "outputId": "9d55be53-38c1-4e43-f978-2e7af64b6031"
      },
      "source": [
        "## Add polygon\n",
        "\n",
        "blank_img2 = np.zeros(shape=(512,512,3),dtype=np.int32)\n",
        "plt.imshow(blank_img2)"
      ],
      "execution_count": 11,
      "outputs": [
        {
          "output_type": "execute_result",
          "data": {
            "text/plain": [
              "<matplotlib.image.AxesImage at 0x7f53e439bc18>"
            ]
          },
          "metadata": {
            "tags": []
          },
          "execution_count": 11
        },
        {
          "output_type": "display_data",
          "data": {
            "image/png": "[encoded data removed]",
            "text/plain": [
              "<Figure size 432x288 with 1 Axes>"
            ]
          },
          "metadata": {
            "tags": [],
            "needs_background": "light"
          }
        }
      ]
    },
    {
      "cell_type": "code",
      "metadata": {
        "colab": {
          "base_uri": "https://localhost:8080/"
        },
        "id": "yog4IFxVjipM",
        "outputId": "bd0437a0-9e6a-43a2-d272-14a6df15d97f"
      },
      "source": [
        "#define vertices of polygon by x-y coordinates\n",
        "vertices = np.array([[100,300],[200,200],[400,300],[200,400]],dtype=np.int32)\n",
        "\n",
        "#right now we have vertices in 1D so openCV needs dimensions in 3D\n",
        "pts = vertices.reshape((-1,1,2))\n",
        "\n",
        "print(vertices.shape)\n",
        "print(pts.shape)"
      ],
      "execution_count": 12,
      "outputs": [
        {
          "output_type": "stream",
          "text": [
            "(4, 2)\n",
            "(4, 1, 2)\n"
          ],
          "name": "stdout"
        }
      ]
    },
    {
      "cell_type": "code",
      "metadata": {
        "colab": {
          "base_uri": "https://localhost:8080/"
        },
        "id": "NG-dCZPPkfX7",
        "outputId": "ba4f8536-882f-4b27-b0a4-a857e035dd58"
      },
      "source": [
        "vertices"
      ],
      "execution_count": 13,
      "outputs": [
        {
          "output_type": "execute_result",
          "data": {
            "text/plain": [
              "array([[100, 300],\n",
              "       [200, 200],\n",
              "       [400, 300],\n",
              "       [200, 400]], dtype=int32)"
            ]
          },
          "metadata": {
            "tags": []
          },
          "execution_count": 13
        }
      ]
    },
    {
      "cell_type": "code",
      "metadata": {
        "colab": {
          "base_uri": "https://localhost:8080/"
        },
        "id": "nSWwOcwTknSU",
        "outputId": "447685d0-538b-487f-8a29-e718aec66b3c"
      },
      "source": [
        "pts"
      ],
      "execution_count": 14,
      "outputs": [
        {
          "output_type": "execute_result",
          "data": {
            "text/plain": [
              "array([[[100, 300]],\n",
              "\n",
              "       [[200, 200]],\n",
              "\n",
              "       [[400, 300]],\n",
              "\n",
              "       [[200, 400]]], dtype=int32)"
            ]
          },
          "metadata": {
            "tags": []
          },
          "execution_count": 14
        }
      ]
    },
    {
      "cell_type": "code",
      "metadata": {
        "colab": {
          "base_uri": "https://localhost:8080/",
          "height": 287
        },
        "id": "AAXkW4XgkodT",
        "outputId": "6d9c3165-d04c-4ad7-821f-6ec3067e4c4d"
      },
      "source": [
        "cv2.polylines(blank_img2,[pts],isClosed=True,\n",
        "              color=(255,0,0),thickness=5)\n",
        "plt.imshow(blank_img2)"
      ],
      "execution_count": 15,
      "outputs": [
        {
          "output_type": "execute_result",
          "data": {
            "text/plain": [
              "<matplotlib.image.AxesImage at 0x7f53e430a080>"
            ]
          },
          "metadata": {
            "tags": []
          },
          "execution_count": 15
        },
        {
          "output_type": "display_data",
          "data": {
            "image/png": "[encoded data removed]",
            "text/plain": [
              "<Figure size 432x288 with 1 Axes>"
            ]
          },
          "metadata": {
            "tags": [],
            "needs_background": "light"
          }
        }
      ]
    }
  ]
}