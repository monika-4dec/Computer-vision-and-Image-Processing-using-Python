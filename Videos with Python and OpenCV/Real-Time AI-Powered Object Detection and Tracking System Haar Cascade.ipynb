{
 "cells": [
  {
   "cell_type": "markdown",
   "id": "850b1875",
   "metadata": {},
   "source": [
    "# Haar Cascade in OpenCV\n",
    "\n",
    "Haar cascade is an algorithm, but first, you need to train a Haar cascade classifier before you can use it as an object detector.\n",
    "\n",
    "In OpenCV, there are pre-trained Haar cascade classifiers for the following (you can download the model files from https://github.com/opencv/opencv/tree/4.x/data/haarcascades):\n",
    "\n",
    "human face, eye detection, full body, upper body, or vehicle license plate etc\n",
    "\n",
    "The pre-trained classifier is stored as an XML file. You can find the filename of the built-in classifiers from the GitHub link. To create a classifier, you must provide the path to this XML file."
   ]
  },
  {
   "cell_type": "markdown",
   "id": "07cdcc4e",
   "metadata": {},
   "source": [
    "# Applications of Computer Vision in AI (Programming-Based)\n",
    "\n",
    "**Task: Research AI-driven applications and implement a small demo.\n",
    "\n",
    "Choose an AI-powered computer vision application (e.g., face detection, object detection).\n",
    "\n",
    "Using a pre-trained model (such as **Haar cascades or a pre-trained YOLO model**) to perform the selected computer vision task.\n",
    "Display the results in real time by drawing bounding boxes or highlighting the detected features in each frame of the video.\n",
    "\n",
    "**Goal: Get hands-on experience with AI applications in computer vision by using pre-trained models for tasks like face detection, object tracking, or vehicle detection.**"
   ]
  },
  {
   "cell_type": "markdown",
   "id": "7b3e0f88",
   "metadata": {},
   "source": [
    "# Haar cascades"
   ]
  },
  {
   "cell_type": "markdown",
   "id": "c97a8074",
   "metadata": {},
   "source": [
    "## How the Code Works:\n",
    "1. Haar Cascade Model: A pre-trained Haar Cascade XML file is used to detect frontal faces.\n",
    "\n",
    "2. Grayscale Conversion: Haar Cascades perform better on grayscale images, so each frame is converted.\n",
    "\n",
    "3. Face Detection: The detectMultiScale function detects faces in the frame, and rectangles are drawn around them.\n",
    "\n",
    "4. Real-Time Video Capture: The video stream is captured using your system's webcam (or a video file).\n",
    "\n",
    "5. Display: Detected faces are shown in real time, and you can quit the program by pressing 'q'"
   ]
  },
  {
   "cell_type": "code",
   "execution_count": 3,
   "id": "e35d5b12",
   "metadata": {},
   "outputs": [],
   "source": [
    "import cv2\n",
    "\n",
    "# Load the pre-trained Haar Cascade model for face detection\n",
    "face_cascade = cv2.CascadeClassifier(cv2.data.haarcascades + 'haarcascade_frontalface_default.xml')"
   ]
  },
  {
   "cell_type": "code",
   "execution_count": 4,
   "id": "888eeab4",
   "metadata": {},
   "outputs": [],
   "source": [
    "# Function to detect faces in each frame\n",
    "def detect_faces(frame):\n",
    "    # Convert the frame to grayscale (Haar Cascades work better on grayscale images)\n",
    "    gray = cv2.cvtColor(frame, cv2.COLOR_BGR2GRAY)\n",
    "    \n",
    "    # Detect faces in the image\n",
    "    faces = face_cascade.detectMultiScale(gray, scaleFactor=1.1, minNeighbors=5, minSize=(30, 30))\n",
    "    \n",
    "    # Draw rectangles around the detected faces\n",
    "    for (x, y, w, h) in faces:\n",
    "        cv2.rectangle(frame, (x, y), (x + w, y + h), (255, 0, 0), 2)\n",
    "    \n",
    "    return frame\n",
    "\n",
    "# Initialize webcam video capture (you can replace this with a video file)\n",
    "cap = cv2.VideoCapture(0)  # 0 for the default camera; change to 'video.mp4' for a video file\n",
    "\n",
    "# Continuously capture frames from the camera\n",
    "while True:\n",
    "    # Capture each frame\n",
    "    ret, frame = cap.read()\n",
    "    \n",
    "    if not ret:\n",
    "        print(\"Failed to capture video\")\n",
    "        break\n",
    "    \n",
    "    # Detect faces in the frame\n",
    "    frame_with_faces = detect_faces(frame)\n",
    "    \n",
    "    # Display the frame with face detection\n",
    "    cv2.imshow('Face Detection', frame_with_faces)\n",
    "    \n",
    "    # Exit the video by pressing 'q'\n",
    "    if cv2.waitKey(1) & 0xFF == ord('q'):\n",
    "        break\n",
    "\n",
    "# Release the video capture object and close the display window\n",
    "cap.release()\n",
    "cv2.destroyAllWindows()"
   ]
  },
  {
   "cell_type": "markdown",
   "id": "9b3732a1",
   "metadata": {},
   "source": [
    "# To Use a Video File:"
   ]
  },
  {
   "cell_type": "markdown",
   "id": "dd9cd604",
   "metadata": {},
   "source": [
    "##### Replace:"
   ]
  },
  {
   "cell_type": "raw",
   "id": "df06e29c",
   "metadata": {},
   "source": [
    "cap = cv2.VideoCapture(0)\n",
    "#by\n",
    "cap = cv2.VideoCapture('your_video_file.mp4')\n"
   ]
  },
  {
   "cell_type": "code",
   "execution_count": null,
   "id": "31b96db9",
   "metadata": {},
   "outputs": [],
   "source": []
  }
 ],
 "metadata": {
  "kernelspec": {
   "display_name": "Python 3 (ipykernel)",
   "language": "python",
   "name": "python3"
  },
  "language_info": {
   "codemirror_mode": {
    "name": "ipython",
    "version": 3
   },
   "file_extension": ".py",
   "mimetype": "text/x-python",
   "name": "python",
   "nbconvert_exporter": "python",
   "pygments_lexer": "ipython3",
   "version": "3.9.13"
  }
 },
 "nbformat": 4,
 "nbformat_minor": 5
}
