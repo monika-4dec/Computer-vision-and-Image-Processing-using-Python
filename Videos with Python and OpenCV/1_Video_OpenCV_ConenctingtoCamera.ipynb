{
  "nbformat": 4,
  "nbformat_minor": 0,
  "metadata": {
    "kernelspec": {
      "display_name": "Python 3",
      "language": "python",
      "name": "python3"
    },
    "language_info": {
      "codemirror_mode": {
        "name": "ipython",
        "version": 3
      },
      "file_extension": ".py",
      "mimetype": "text/x-python",
      "name": "python",
      "nbconvert_exporter": "python",
      "pygments_lexer": "ipython3",
      "version": "3.7.3"
    },
    "colab": {
      "name": "1_Video_OpenCV_ConenctingtoCamera.ipynb",
      "provenance": [],
      "toc_visible": true,
      "include_colab_link": true
    }
  },
  "cells": [
    {
      "cell_type": "markdown",
      "metadata": {
        "id": "view-in-github",
        "colab_type": "text"
      },
      "source": [
        "<a href=\"https://colab.research.google.com/github/worklifesg/Python-for-Computer-Vision-with-OpenCV-and-Deep-Learning/blob/main/4.%20Videos%20with%20Python%20and%20Open%20CV/1_Video_OpenCV_ConenctingtoCamera.ipynb\" target=\"_parent\"><img src=\"https://colab.research.google.com/assets/colab-badge.svg\" alt=\"Open In Colab\"/></a>"
      ]
    },
    {
      "cell_type": "markdown",
      "metadata": {
        "id": "l6xKhnZ0XOLW"
      },
      "source": [
        "#### Video Basics with Python and OpenCV (Connecting to Camera)\n",
        "\n",
        "In this program we will execute following things:\n",
        " - Use OpenCV to connect to webcam\n",
        " - Write a video stream to a file"
      ]
    },
    {
      "cell_type": "code",
      "metadata": {
        "id": "iAI96II7XOLW"
      },
      "source": [
        "# close all other programs that are accessing opencv to connect to camera and only use 1 kernel in usew\n",
        "\n",
        "import cv2\n",
        "\n",
        "cap = cv2.VideoCapture(0) #0 default camera\n",
        "\n",
        "#width and hieght of actual capture\n",
        "\n",
        "width = int(cap.get(cv2.CAP_PROP_FRAME_WIDTH)) #return like 1080.0\n",
        "height = int(cap.get(cv2.CAP_PROP_FRAME_HEIGHT))\n",
        "\n",
        "while True:\n",
        "    \n",
        "    ret,frame =cap.read() #tuple unpacking\n",
        "    \n",
        "    gray = cv2.cvtColor(frame,cv2.COLOR_BGR2GRAY) #covnert iamge to grayscale\n",
        "    \n",
        "    cv2.imshow('frame',gray)\n",
        "    \n",
        "    if cv2.waitKey(1) & 0xFF == 27: #ESC key\n",
        "        break\n",
        "        \n",
        "cap.release()\n",
        "cv2.destroyAllWindows()\n",
        "    "
      ],
      "execution_count": null,
      "outputs": []
    },
    {
      "cell_type": "code",
      "metadata": {
        "id": "YddSSRxJXOLY"
      },
      "source": [
        "# for raw frame\n",
        "\n",
        "import cv2\n",
        "\n",
        "cap = cv2.VideoCapture(0) #0 default camera\n",
        "\n",
        "#width and hieght of actual capture\n",
        "\n",
        "width = int(cap.get(cv2.CAP_PROP_FRAME_WIDTH)) #return like 1080.0\n",
        "height = int(cap.get(cv2.CAP_PROP_FRAME_HEIGHT))\n",
        "\n",
        "while True:\n",
        "    \n",
        "    ret,frame =cap.read() #tuple unpacking\n",
        "    \n",
        "    #gray = cv2.cvtColor(frame,cv2.COLOR_BGR2GRAY) #covnert iamge to grayscale\n",
        "    \n",
        "    cv2.imshow('frame',frame)\n",
        "    \n",
        "    if cv2.waitKey(1) & 0xFF == 27: #ESC key\n",
        "        break\n",
        "        \n",
        "cap.release()\n",
        "cv2.destroyAllWindows()\n",
        "    "
      ],
      "execution_count": null,
      "outputs": []
    },
    {
      "cell_type": "code",
      "metadata": {
        "id": "Lq1nm2qqXOLY"
      },
      "source": [
        "#WRITE VIDEO STREAM TO FILE\n",
        "\n",
        "# for raw frame and writing video to file\n",
        "\n",
        "import cv2\n",
        "\n",
        "cap = cv2.VideoCapture(0) #0 default camera\n",
        "\n",
        "#width and hieght of actual capture\n",
        "\n",
        "width = int(cap.get(cv2.CAP_PROP_FRAME_WIDTH)) #return like 1080.0\n",
        "height = int(cap.get(cv2.CAP_PROP_FRAME_HEIGHT))\n",
        "\n",
        "##########################\n",
        "'''\n",
        "\n",
        "Fourcc is a 4 byte code to specify the video codec.\n",
        "For Windows: DIVX\n",
        "\n",
        "'''\n",
        "#########################\n",
        "\n",
        "writer = cv2.VideoWriter('MyFirstVideoWrite.mp4',\n",
        "                        cv2.VideoWriter_fourcc(*'DIVX'),\n",
        "                        20, #frames per seconds\n",
        "                        (width,height))\n",
        "\n",
        "\n",
        "while True:\n",
        "    \n",
        "    ret,frame =cap.read() #tuple unpacking\n",
        "    \n",
        "    #Operations (drawing)\n",
        "    writer.write(frame)\n",
        "    \n",
        "    cv2.imshow('frame',frame)\n",
        "    \n",
        "    if cv2.waitKey(1) & 0xFF == 27: #ESC key\n",
        "        break\n",
        "        \n",
        "cap.release()\n",
        "writer.release()\n",
        "cv2.destroyAllWindows()\n",
        "    "
      ],
      "execution_count": null,
      "outputs": []
    }
  ]
}