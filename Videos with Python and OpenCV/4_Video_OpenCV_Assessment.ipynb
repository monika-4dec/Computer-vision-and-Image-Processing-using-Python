{
  "nbformat": 4,
  "nbformat_minor": 0,
  "metadata": {
    "kernelspec": {
      "display_name": "Python 3",
      "language": "python",
      "name": "python3"
    },
    "language_info": {
      "codemirror_mode": {
        "name": "ipython",
        "version": 3
      },
      "file_extension": ".py",
      "mimetype": "text/x-python",
      "name": "python",
      "nbconvert_exporter": "python",
      "pygments_lexer": "ipython3",
      "version": "3.7.3"
    },
    "colab": {
      "name": "4_Video_OpenCV_Assessment.ipynb",
      "provenance": [],
      "include_colab_link": true
    }
  },
  "cells": [
    {
      "cell_type": "markdown",
      "metadata": {
        "id": "view-in-github",
        "colab_type": "text"
      },
      "source": [
        "<a href=\"https://colab.research.google.com/github/worklifesg/Python-for-Computer-Vision-with-OpenCV-and-Deep-Learning/blob/main/4.%20Videos%20with%20Python%20and%20Open%20CV/4_Video_OpenCV_Assessment.ipynb\" target=\"_parent\"><img src=\"https://colab.research.google.com/assets/colab-badge.svg\" alt=\"Open In Colab\"/></a>"
      ]
    },
    {
      "cell_type": "markdown",
      "metadata": {
        "id": "O5K8vfjlXRi9"
      },
      "source": [
        "<a href=\"https://www.pieriandata.com\"><img src=\"../DATA/Logo.jpg\"></a>\n",
        "\n",
        "<em text-align:center>Copyright Pierian Data Inc.</em>"
      ]
    },
    {
      "cell_type": "markdown",
      "metadata": {
        "id": "ngp7vFrCXRi9"
      },
      "source": [
        "# Video Basics Assessment \n",
        "\n",
        "* **Note: This assessment is quite hard! Feel free to treat it as a code along and jump to the solutions** *\n",
        "\n",
        "## Project Task\n",
        "\n",
        "**You only have one task here. Create a program that reads in a live stream from a camera on your computer (or if you don't have a camera, just open up a video file). Then whenever you click the left mouse button down, create a blue circle around where you've clicked. Check out the video for an example of what the final project should look like**"
      ]
    },
    {
      "cell_type": "markdown",
      "metadata": {
        "id": "FTQ7qRgbXRi9"
      },
      "source": [
        "**Guide**\n",
        "\n",
        "* Create a draw_circle function for the callback function\n",
        "* Use two events cv2.EVENT_LBUTTONDOWN and cv2.EVENT_LBUTTONUP\n",
        "* Use a boolean variable to keep track if the mouse has been clicked up and down based on the events above\n",
        "* Use a tuple to keep track of the x and y where the mouse was clicked.\n",
        "* You should be able to then draw a circle on the frame based on the x,y coordinates from the Event \n",
        "\n",
        "Check out the skeleton guide below:"
      ]
    },
    {
      "cell_type": "code",
      "metadata": {
        "id": "WYO_34O9XRi9"
      },
      "source": [
        "import cv2\n",
        "\n",
        "# Create a function based on a CV2 Event (Left button click)\n",
        "\n",
        "# mouse callback function\n",
        "def draw_circle(event,x,y,flags,param):\n",
        "\n",
        "    global center,clicked\n",
        "\n",
        "    # get mouse click on down and track center\n",
        "    \n",
        "    if event == cv2.EVENT_LBUTTONDOWN:\n",
        "        center = (x,y)\n",
        "        clicked = False\n",
        "        \n",
        "    if event == cv2.EVENT_LBUTTONUP:\n",
        "        clicked = True\n",
        "    \n",
        "    \n",
        "    # Use boolean variable to track if the mouse has been released\n",
        "   \n",
        "\n",
        "        \n",
        "# Haven't drawn anything yet!\n",
        "center = (0,0)\n",
        "clicked = False\n",
        "\n",
        "\n",
        "# Capture Video\n",
        "\n",
        "cap = cv2.VideoCapture(0)\n",
        "\n",
        "# Create a named window for connections\n",
        "\n",
        "cv2.namedWindow('Test')\n",
        "\n",
        "# Bind draw_circle function to mouse cliks\n",
        "\n",
        "cv2.setMouseCallback('Test',draw_circle)\n",
        "\n",
        "\n",
        "while True:\n",
        "    # Capture frame-by-frame\n",
        "    \n",
        "    ret,frame = cap.read()\n",
        "\n",
        "    # Use if statement to see if clicked is true\n",
        "    \n",
        "    if clicked:\n",
        "         # Draw circle on frame\n",
        "            cv2.circle(frame,center=center,\n",
        "                      radius=50,\n",
        "                      color=(255,0,0),\n",
        "                      thickness = 5)\n",
        "        \n",
        "    # Display the resulting frame\n",
        "    \n",
        "    cv2.imshow('Test',frame)\n",
        "\n",
        "    # This command let's us quit with the \"q\" button on a keyboard.\n",
        "    # Simply pressing X on the window won't work!\n",
        "    if cv2.waitKey(1) & 0xFF == 27:\n",
        "        break\n",
        "\n",
        "# When everything is done, release the capture\n",
        "cap.release()\n",
        "cv2.destroyAllWindows()"
      ],
      "execution_count": null,
      "outputs": []
    },
    {
      "cell_type": "code",
      "metadata": {
        "id": "BMxbZzozXRi-"
      },
      "source": [
        ""
      ],
      "execution_count": null,
      "outputs": []
    }
  ]
}