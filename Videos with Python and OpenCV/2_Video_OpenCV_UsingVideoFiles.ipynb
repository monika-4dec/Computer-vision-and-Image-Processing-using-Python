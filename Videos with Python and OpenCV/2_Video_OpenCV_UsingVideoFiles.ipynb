{
  "nbformat": 4,
  "nbformat_minor": 0,
  "metadata": {
    "kernelspec": {
      "display_name": "Python 3",
      "language": "python",
      "name": "python3"
    },
    "language_info": {
      "codemirror_mode": {
        "name": "ipython",
        "version": 3
      },
      "file_extension": ".py",
      "mimetype": "text/x-python",
      "name": "python",
      "nbconvert_exporter": "python",
      "pygments_lexer": "ipython3",
      "version": "3.7.3"
    },
    "colab": {
      "name": "2_Video_OpenCV_UsingVideoFiles.ipynb",
      "provenance": [],
      "include_colab_link": true
    }
  },
  "cells": [
    {
      "cell_type": "markdown",
      "metadata": {
        "id": "view-in-github",
        "colab_type": "text"
      },
      "source": [
        "<a href=\"https://colab.research.google.com/github/worklifesg/Python-for-Computer-Vision-with-OpenCV-and-Deep-Learning/blob/main/4.%20Videos%20with%20Python%20and%20Open%20CV/2_Video_OpenCV_UsingVideoFiles.ipynb\" target=\"_parent\"><img src=\"https://colab.research.google.com/assets/colab-badge.svg\" alt=\"Open In Colab\"/></a>"
      ]
    },
    {
      "cell_type": "markdown",
      "metadata": {
        "id": "X-XGHsOwXPB3"
      },
      "source": [
        "#### Video Basics with Python and OpenCV (Using video files)\n",
        "\n",
        "In this program we will execute following things:\n",
        " - Open existing video files with OpenCV"
      ]
    },
    {
      "cell_type": "code",
      "metadata": {
        "id": "q0FgdkDzXPB4"
      },
      "source": [
        "import cv2\n",
        "\n",
        "cap = cv2.VideoCapture('MyFirstVideoWrite.mp4')\n",
        "\n",
        "if cap.isOpened() == False:\n",
        "    print('Error: File not found or WRONG Codec Used !!')\n",
        "\n",
        "while cap.isOpened():\n",
        "    ret,frame = cap.read()\n",
        "    \n",
        "    if ret == True: #video still playing\n",
        "        cv2.imshow('frame',frame)\n",
        "        if cv2.waitKey(10) & 0xFF == 27:\n",
        "            break\n",
        "            \n",
        "    else: #when youa re done showing everything, break from while video, exit from the video\n",
        "        break\n",
        "\n",
        "cap.release()\n",
        "cv2.destroyAllWindows()\n",
        "    "
      ],
      "execution_count": null,
      "outputs": []
    },
    {
      "cell_type": "code",
      "metadata": {
        "id": "fE88OlwjXPB4"
      },
      "source": [
        "#above code video is displayed very fast\n",
        "\n",
        "# to control the speed\n",
        "\n",
        "import cv2\n",
        "import time\n",
        "\n",
        "cap = cv2.VideoCapture('MyFirstVideoWrite.mp4')\n",
        "\n",
        "if cap.isOpened() == False:\n",
        "    print('Error: File not found or WRONG Codec Used !!')\n",
        "\n",
        "while cap.isOpened():\n",
        "    ret,frame = cap.read()\n",
        "    \n",
        "    if ret == True: #video still playing \n",
        "        \n",
        "        #with 20fps\n",
        "        time.sleep(1/20) #1/fps\n",
        "        \n",
        "        cv2.imshow('frame',frame)\n",
        "        if cv2.waitKey(10) & 0xFF == 27:\n",
        "            break\n",
        "            \n",
        "    else: #when youa re done showing everything, break from while video, exit from the video\n",
        "        break\n",
        "\n",
        "cap.release()\n",
        "cv2.destroyAllWindows()"
      ],
      "execution_count": null,
      "outputs": []
    }
  ]
}