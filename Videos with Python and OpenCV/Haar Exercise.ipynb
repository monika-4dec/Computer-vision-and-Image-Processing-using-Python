{
 "cells": [
  {
   "cell_type": "markdown",
   "id": "0707b9c0",
   "metadata": {},
   "source": [
    "# Haar Exercise"
   ]
  },
  {
   "cell_type": "markdown",
   "id": "cbd4a247",
   "metadata": {},
   "source": [
    "## Objective:\n",
    "To practice object detection using Haar cascades for detecting various objects, such as faces, eyes, and cars, and understand the application of Haar cascades in different scenarios.\n",
    "\n",
    "## Background:\n",
    "Haar cascades are versatile and can be used for detecting various objects beyond faces. In this lab practice, you will implement object detection using Haar cascades for different objects in both images and videos.\n",
    "\n",
    "## Tasks:\n",
    "Setup and Load Haar Cascade Classifiers:\n",
    "\n",
    "Download and load pre-trained Haar cascade XML files for different objects. For this lab, you will use:\n",
    "1. Face: haarcascade_frontalface_default.xml\n",
    "2. Eyes: haarcascade_eye.xml\n",
    "3. Cars: haarcascade_car.xml (if available, otherwise use another object like full body: haarcascade_fullbody.xml)\n",
    "\n",
    "## Image Detection\n",
    "\n",
    "#### Face Detection:\n",
    "\n",
    "1. Load a sample image from your local directory.\n",
    "2. Convert the image to grayscale.\n",
    "3. Use the Haar cascade classifier for faces to detect faces in the image.\n",
    "4. Draw rectangles around detected faces.\n",
    "5. Eyes Detection (within detected faces):\n",
    "\n",
    "For each detected face, extract the region of interest (ROI) from the grayscale image.\n",
    "Use the Haar cascade classifier for eyes to detect eyes within each face ROI.\n",
    "Draw rectangles around detected eyes within the face rectangles.\n",
    "Car Detection (or other chosen object):\n",
    "\n",
    "Load a different sample image for detecting cars or the chosen object.\n",
    "Convert the image to grayscale.\n",
    "Use the Haar cascade classifier for the chosen object to detect it in the image.\n",
    "Draw rectangles around detected objects.\n",
    "Video Detection:\n",
    "\n",
    "#### Face and Eyes Detection:\n",
    "\n",
    "Open a video file or use a webcam feed.\n",
    "For each frame:\n",
    "Convert the frame to grayscale.\n",
    "Detect faces in the frame.\n",
    "For each detected face, detect eyes within the face ROI.\n",
    "Draw rectangles around detected faces and eyes.\n",
    "Car Detection (or other chosen object):\n",
    "\n",
    "Use a video feed to detect cars or the chosen object.\n",
    "For each frame, convert it to grayscale.\n",
    "Detect cars (or the chosen object) in the frame.\n",
    "Draw rectangles around detected objects.\n",
    "Documentation and Reflection:\n",
    "\n",
    "Document the steps taken for each object detection task.\n",
    "Reflect on the challenges and performance differences between detecting faces, eyes, and other objects using Haar cascades.\n",
    "Requirements:\n",
    "Python Libraries:\n",
    "\n",
    "OpenCV (pip install opencv-python)\n",
    "Files:\n",
    "\n",
    "Haar cascade XML files for face, eyes, and cars (or other objects). You can download these from the OpenCV GitHub repository.\n",
    "Instructions:\n",
    "Setup:\n",
    "\n",
    "Install OpenCV using pip install opencv-python if not already installed.\n",
    "Download the Haar cascade XML files and place them in your working directory."
   ]
  },
  {
   "cell_type": "code",
   "execution_count": null,
   "id": "eab41282",
   "metadata": {},
   "outputs": [],
   "source": []
  }
 ],
 "metadata": {
  "kernelspec": {
   "display_name": "Python 3 (ipykernel)",
   "language": "python",
   "name": "python3"
  },
  "language_info": {
   "codemirror_mode": {
    "name": "ipython",
    "version": 3
   },
   "file_extension": ".py",
   "mimetype": "text/x-python",
   "name": "python",
   "nbconvert_exporter": "python",
   "pygments_lexer": "ipython3",
   "version": "3.9.13"
  }
 },
 "nbformat": 4,
 "nbformat_minor": 5
}
