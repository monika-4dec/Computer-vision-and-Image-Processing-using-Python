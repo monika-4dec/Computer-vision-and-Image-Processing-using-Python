{
  "nbformat": 4,
  "nbformat_minor": 0,
  "metadata": {
    "kernelspec": {
      "display_name": "Python 3",
      "language": "python",
      "name": "python3"
    },
    "language_info": {
      "codemirror_mode": {
        "name": "ipython",
        "version": 3
      },
      "file_extension": ".py",
      "mimetype": "text/x-python",
      "name": "python",
      "nbconvert_exporter": "python",
      "pygments_lexer": "ipython3",
      "version": "3.7.3"
    },
    "colab": {
      "name": "3_Video_OpenCV_DrawingonVideo.ipynb",
      "provenance": [],
      "include_colab_link": true
    }
  },
  "cells": [
    {
      "cell_type": "markdown",
      "metadata": {
        "id": "view-in-github",
        "colab_type": "text"
      },
      "source": [
        "<a href=\"https://colab.research.google.com/github/worklifesg/Python-for-Computer-Vision-with-OpenCV-and-Deep-Learning/blob/main/4.%20Videos%20with%20Python%20and%20Open%20CV/3_Video_OpenCV_DrawingonVideo.ipynb\" target=\"_parent\"><img src=\"https://colab.research.google.com/assets/colab-badge.svg\" alt=\"Open In Colab\"/></a>"
      ]
    },
    {
      "cell_type": "markdown",
      "metadata": {
        "id": "aqjeCQrKXQpw"
      },
      "source": [
        "#### Video Basics with Python and OpenCV (Using video files)\n",
        "\n",
        "In this program we will execute following things:\n",
        " - Draw on video"
      ]
    },
    {
      "cell_type": "code",
      "metadata": {
        "id": "Y4OXAWhqXQpw"
      },
      "source": [
        "import cv2\n",
        "\n",
        "cap = cv2.VideoCapture(0)\n",
        "\n",
        "width = int(cap.get(cv2.CAP_PROP_FRAME_WIDTH))\n",
        "height = int(cap.get(cv2.CAP_PROP_FRAME_HEIGHT))\n",
        "\n",
        "#to draw on video\n",
        "\n",
        "#For top left corner\n",
        "x = width // 2\n",
        "y = height // 2 \n",
        "# // means we want to keep x and y coordinates as integers\n",
        "\n",
        "#for the rectangle we want to draw\n",
        "\n",
        "w = width // 4\n",
        "h = height // 4\n",
        "#Bottom right x+w,y+h\n",
        "\n",
        "while True:\n",
        "    ret,frame = cap.read()\n",
        "    cv2.rectangle(frame,\n",
        "                 (x,y),\n",
        "                 (x+w,y+h),color=(0,0,255),\n",
        "                 thickness=4)\n",
        "    cv2.imshow('frame',frame)\n",
        "    \n",
        "    if cv2.waitKey(1) & 0xFF == 27:\n",
        "        break\n",
        "\n",
        "cap.release()\n",
        "cv2.destroyAllWindows()"
      ],
      "execution_count": null,
      "outputs": []
    },
    {
      "cell_type": "code",
      "metadata": {
        "id": "o2H0szvNXQpx"
      },
      "source": [
        "#interactive draw on video\n",
        "\n",
        "import cv2\n",
        "\n",
        "width = int(cap.get(cv2.CAP_PROP_FRAME_WIDTH))\n",
        "height = int(cap.get(cv2.CAP_PROP_FRAME_HEIGHT))\n",
        "\n",
        "#### CALLBACK FUNCTION ####\n",
        "\n",
        "def draw_rectangle(event,x,y,flags,param):\n",
        "    \n",
        "    global pt1,pt2,topLeft_clicked,botRight_clicked\n",
        "    \n",
        "    if event == cv2.EVENT_LBUTTONDOWN:\n",
        "        \n",
        "        #RESET the rectangle (erase previous drawn rectangle)\n",
        "        if topLeft_clicked == True and botRight_clicked == True:\n",
        "            pt1 = (0,0) #top left\n",
        "            pt2 = (0,0) #bottom right\n",
        "            topLeft_clicked = False\n",
        "            botRight_clicked = False\n",
        "            \n",
        "        if topLeft_clicked == False:\n",
        "            pt1 = (x,y)\n",
        "            topLeft_clicked = True\n",
        "        \n",
        "        elif botRight_clicked == False:\n",
        "            pt2 = (x,y)\n",
        "            botRight_clicked = True\n",
        "\n",
        "# GLOBAL VARIABLES\n",
        "\n",
        "pt1 = (0,0) #top left\n",
        "pt2 = (0,0) #bottom right\n",
        "topLeft_clicked = False\n",
        "botRight_clicked = False\n",
        "            \n",
        "#CONNECT TO CALLBACK\n",
        "cap = cv2.VideoCapture(0)\n",
        "\n",
        "cv2.namedWindow('Test')\n",
        "cv2.setMouseCallback('Test',draw_rectangle)\n",
        "\n",
        "\n",
        "while True:\n",
        "    ret,frame = cap.read()\n",
        "\n",
        "    #### DRAWING ON FRAME BASED OFF GLOBAL VARIABLES\n",
        "    \n",
        "    if topLeft_clicked: #if top left is clicked\n",
        "        cv2.circle(frame,center=pt1,radius=5,color=(0,0,255),thickness=-1)\n",
        "    if topLeft_clicked and botRight_clicked: #if both are clicked\n",
        "        cv2.rectangle(frame,pt1,pt2,(0,0,255),3)\n",
        "    \n",
        "    cv2.imshow('Test',frame)\n",
        "    \n",
        "    if cv2.waitKey(1) & 0xFF == 27:\n",
        "        break\n",
        "\n",
        "cap.release()\n",
        "cv2.destroyAllWindows()"
      ],
      "execution_count": null,
      "outputs": []
    },
    {
      "cell_type": "code",
      "metadata": {
        "id": "xPO5l7g4XQpx"
      },
      "source": [
        ""
      ],
      "execution_count": null,
      "outputs": []
    }
  ]
}